{
  "cells": [
    {
      "cell_type": "code",
      "execution_count": null,
      "metadata": {
        "id": "vQ6dT9YLuDui"
      },
      "outputs": [],
      "source": [
        "from google.colab import drive\n",
        "drive.mount('/content/drive')"
      ]
    },
    {
      "cell_type": "code",
      "execution_count": null,
      "metadata": {
        "id": "UwkT4M0xw2E2"
      },
      "outputs": [],
      "source": [
        "!pip install openai pandas"
      ]
    },
    {
      "cell_type": "code",
      "execution_count": null,
      "metadata": {
        "id": "iXebXppgPWb1"
      },
      "outputs": [],
      "source": [
        "# from openai import OpenAI\n",
        "# import pandas as pd\n",
        "# import time\n",
        "\n",
        "# client = OpenAI(\n",
        "#     api_key='API_KEY',\n",
        "# )\n",
        "\n",
        "# def analyze_sentiment(text):\n",
        "#     chat_completion = client.chat.completions.create(\n",
        "#         messages=[\n",
        "#             {\"role\": \"system\", \"content\": \"You are a sentiment analysis assistant.\"},\n",
        "#             {\"role\": \"user\", \"content\": f\"Analyze the sentiment of the following text: '{text}'. If it is positive, write only '긍정', if it is negative, write only '부정', and if it is neutral, write only '중립'.\"}\n",
        "#         ],\n",
        "#         model=\"gpt-3.5-turbo\",\n",
        "#     )\n",
        "#     sentiment_analysis = chat_completion.choices[0].message.content.strip()\n",
        "#     return sentiment_analysis\n",
        "\n",
        "# # 파일 로드\n",
        "# comments_df = pd.read_excel(\"/content/drive/MyDrive/개별연구_최종/YouTube_Comments_Time.xlsx\")\n",
        "\n",
        "# # 댓글 데이터에 대해 감정 분석 수행\n",
        "# checkpoint_interval = 50  # 예: 50개의 댓글마다 체크포인트 저장\n",
        "# for i in range(len(comments_df)):\n",
        "#     comments_df.at[i, \"Sentiment\"] = analyze_sentiment(comments_df.at[i, \"Comment\"])\n",
        "#     if i % checkpoint_interval == 0:\n",
        "#         # 중간 결과를 파일로 저장\n",
        "#         checkpoint_file_path = \"/content/drive/MyDrive/개별연구_최종/YouTube_Comments_Sentiment_checkpoint_2.xlsx\"\n",
        "#         comments_df.to_excel(checkpoint_file_path, index=False)\n",
        "#         print(f\"Checkpoint saved at index {i}\")\n",
        "#         print(comments_df.iloc[i])\n",
        "#         time.sleep(1)  # API 호출 제한을 피하기 위해 잠시 대기\n",
        "\n",
        "# # 최종 결과를 새 엑셀 파일에 저장\n",
        "# result_file_path = \"/content/drive/MyDrive/개별연구_최종/YouTube_Comments_Sentiment_gpt.xlsx\"\n",
        "# comments_df.to_excel(result_file_path, index=False)\n",
        "\n",
        "# print(\"Final result saved.\")"
      ]
    },
    {
      "cell_type": "code",
      "execution_count": null,
      "metadata": {
        "id": "ypnGCHHU6639"
      },
      "outputs": [],
      "source": [
        "# from openai import OpenAI\n",
        "# import pandas as pd\n",
        "\n",
        "# client = OpenAI(\n",
        "#     api_key='API_KEY',\n",
        "# )\n",
        "\n",
        "# def analyze_sentiment(text):\n",
        "#     chat_completion = client.chat.completions.create(\n",
        "#         messages=[\n",
        "#             {\"role\": \"system\", \"content\": \"You are a sentiment analysis assistant.\"},\n",
        "#             {\"role\": \"user\", \"content\": f\"Analyze the sentiment of the following text: '{text}'. If it is positive, write only '긍정', if it is negative, write only '부정', and if it is neutral, write only '중립'.\"}\n",
        "#         ],\n",
        "#         model=\"gpt-3.5-turbo\",\n",
        "#     )\n",
        "#     sentiment_analysis = chat_completion.choices[0].message.content.strip()\n",
        "#     return sentiment_analysis\n",
        "\n",
        "# # 파일 로드\n",
        "# comments_df = pd.read_excel(\"/content/drive/MyDrive/개별연구_최종/YouTube_Comments_Time.xlsx\")\n",
        "\n",
        "# # 댓글 데이터에 대해 감정 분석 수행\n",
        "# comments_df[\"Sentiment\"] = comments_df[\"Comment\"].apply(analyze_sentiment)\n",
        "\n",
        "# # 결과를 새 엑셀 파일에 저장\n",
        "# result_file_path = \"/content/drive/MyDrive/개별연구_최종/YouTube_Comments_Sentiment.xlsx\"\n",
        "# comments_df.to_excel(result_file_path, index=False)\n",
        "\n",
        "# print(comments_df)"
      ]
    },
    {
      "cell_type": "code",
      "execution_count": null,
      "metadata": {
        "id": "CGBPO2xJG5C1"
      },
      "outputs": [],
      "source": [
        "from openai import OpenAI\n",
        "import pandas as pd\n",
        "import time\n",
        "\n",
        "client = OpenAI(\n",
        "    api_key='API_KEY',\n",
        ")\n",
        "\n",
        "def analyze_multiple_sentiment(text):\n",
        "    chat_completion = client.chat.completions.create(\n",
        "        messages=[\n",
        "            {\"role\": \"system\", \"content\": \"You are a sentiment analysis assistant.\"},\n",
        "            {\"role\": \"user\", \"content\": f\"Analyze the sentiment of the following text: '{text}'. If it is joy, write only '기쁨', If it is sadness, write only '슬픔', If it is surprise, write only '놀람', If it is anger, write only '분노', If it is fear, write only '공포', If it is disgust, write only '혐오', If it is neutral, write only '중립'.\"}\n",
        "        ],\n",
        "        model=\"gpt-3.5-turbo\",\n",
        "    )\n",
        "    multiple_sentiment_analysis = chat_completion.choices[0].message.content.strip()\n",
        "    return multiple_sentiment_analysis\n",
        "\n",
        "# 파일 로드\n",
        "comments_df = pd.read_excel(\"/content/drive/MyDrive/개별연구_최종/YouTube_Comments.xlsx\")\n",
        "\n",
        "# 댓글 데이터에 대해 감정 분석 수행\n",
        "checkpoint_interval = 100  # 예: 100개의 댓글마다 체크포인트 저장\n",
        "for i in range(len(comments_df)):\n",
        "    comments_df.at[i, \"MultipleSentiment\"] = analyze_multiple_sentiment(comments_df.at[i, \"Comment\"])\n",
        "    if i % checkpoint_interval == 0:\n",
        "        # 중간 결과를 파일로 저장\n",
        "        checkpoint_file_path = \"/content/drive/MyDrive/개별연구_최종/g_YouTube_Comments_Multiple_Sentiment_checkpoint.xlsx\"\n",
        "        comments_df.to_excel(checkpoint_file_path, index=False)\n",
        "        print(f\"Checkpoint saved at index {i}\")\n",
        "        print(comments_df.iloc[i])\n",
        "        time.sleep(1)  # API 호출 제한을 피하기 위해 잠시 대기\n",
        "\n",
        "# 최종 결과를 새 엑셀 파일에 저장\n",
        "result_file_path = \"/content/drive/MyDrive/개별연구_최종/g_YouTube_Comments_Multiple_Sentiment.xlsx\"\n",
        "comments_df.to_excel(result_file_path, index=False)\n",
        "\n",
        "print(\"Final result saved.\")\n",
        "print(comments_df)"
      ]
    },
    {
      "cell_type": "code",
      "execution_count": null,
      "metadata": {
        "id": "dqWoI-b9IsAr"
      },
      "outputs": [],
      "source": [
        "# 다중 감정 분석 비율 원그래프 시각화\n",
        "\n",
        "import pandas as pd\n",
        "import matplotlib.pyplot as plt\n",
        "import matplotlib.font_manager as fm\n",
        "\n",
        "# 나눔고딕 폰트 설치 및 설정\n",
        "!apt-get update -qq\n",
        "!apt-get install fonts-nanum -qq\n",
        "!fc-cache -fv\n",
        "\n",
        "# 나눔고딕 폰트 설정\n",
        "font_path = '/usr/share/fonts/truetype/nanum/NanumGothic.ttf'\n",
        "font = fm.FontProperties(fname=font_path)\n",
        "\n",
        "# matplotlib 폰트 캐시 리빌드\n",
        "def set_nanum_font():\n",
        "    font_dirs = ['/usr/share/fonts/truetype/nanum']\n",
        "    font_files = fm.findSystemFonts(fontpaths=font_dirs)\n",
        "    for font_file in font_files:\n",
        "        fm.fontManager.addfont(font_file)\n",
        "    plt.rcParams['font.family'] = 'NanumGothic'\n",
        "\n",
        "set_nanum_font()\n",
        "\n",
        "# 파일 로드\n",
        "file_path = '/content/drive/MyDrive/개별연구_최종/g_YouTube_Comments_Multiple_Sentiment.xlsx'\n",
        "comments_df = pd.read_excel(file_path)\n",
        "\n",
        "# MultipleSentiment 열의 값에 따라 데이터의 개수 세기\n",
        "multiple_sentiment_counts = comments_df['MultipleSentiment'].value_counts()\n",
        "\n",
        "# 비율 계산 및 출력\n",
        "total_comments = len(comments_df)\n",
        "percentages = (multiple_sentiment_counts / total_comments) * 100\n",
        "for sentiment, count in multiple_sentiment_counts.items():\n",
        "    print(f\"{sentiment}: {count}개 ({percentages[sentiment]:.1f}%)\")\n",
        "\n",
        "# 시각화\n",
        "plt.figure(figsize=(8, 8))\n",
        "plt.pie(multiple_sentiment_counts, labels=multiple_sentiment_counts.index, autopct='%1.1f%%', startangle=90, colors=['lightblue', 'lightcoral', 'lightgreen', 'lightyellow', 'lightpink', 'lightsalmon', 'lightgray'])\n",
        "plt.title('Distribution of Multiple Sentiments')\n",
        "plt.axis('equal')  # 원형으로 그리기\n",
        "plt.show()\n"
      ]
    }
  ],
  "metadata": {
    "colab": {
      "private_outputs": true,
      "provenance": []
    },
    "kernelspec": {
      "display_name": "Python 3",
      "name": "python3"
    },
    "language_info": {
      "name": "python"
    }
  },
  "nbformat": 4,
  "nbformat_minor": 0
}
